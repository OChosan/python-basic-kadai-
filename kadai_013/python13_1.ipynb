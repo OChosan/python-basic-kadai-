{
  "nbformat": 4,
  "nbformat_minor": 0,
  "metadata": {
    "colab": {
      "provenance": []
    },
    "kernelspec": {
      "name": "python3",
      "display_name": "Python 3"
    },
    "language_info": {
      "name": "python"
    }
  },
  "cells": [
    {
      "cell_type": "code",
      "execution_count": 12,
      "metadata": {
        "colab": {
          "base_uri": "https://localhost:8080/",
          "height": 36
        },
        "id": "HJyeP8oFG6fw",
        "outputId": "a1029169-9e4f-4a0e-ca82-a0896c60d8e5"
      },
      "outputs": [
        {
          "output_type": "execute_result",
          "data": {
            "text/plain": [
              "'1320.0円'"
            ],
            "application/vnd.google.colaboratory.intrinsic+json": {
              "type": "string"
            }
          },
          "metadata": {},
          "execution_count": 12
        }
      ],
      "source": [
        "#商品購入時の消費税を、関数で計算するプログラムのソースコードを作成して提出してください。以下のヒントを参考にして、プログラムを作成してください。\n",
        "\n",
        "#消費税を加えた計算結果を返す関数を記述する\n",
        "#「結果を返す関数」なので戻り値を使用する\n",
        "#第1引数に商品の金額、第2引数に消費税（10%）を設定する\n",
        "\n",
        "\n",
        "def consumerprice(price,contax):\n",
        "\n",
        "    total=price*(1+contax)\n",
        "\n",
        "    return(f\"{total}円\")\n",
        "\n",
        "consumerprice(1200,0.1)\n"
      ]
    }
  ]
}