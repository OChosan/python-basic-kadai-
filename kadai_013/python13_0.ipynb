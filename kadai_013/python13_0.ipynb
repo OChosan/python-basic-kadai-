{
  "nbformat": 4,
  "nbformat_minor": 0,
  "metadata": {
    "colab": {
      "provenance": []
    },
    "kernelspec": {
      "name": "python3",
      "display_name": "Python 3"
    },
    "language_info": {
      "name": "python"
    }
  },
  "cells": [
    {
      "cell_type": "code",
      "execution_count": 5,
      "metadata": {
        "colab": {
          "base_uri": "https://localhost:8080/"
        },
        "id": "HJyeP8oFG6fw",
        "outputId": "11cbf915-8368-4906-8793-957b5b928f11"
      },
      "outputs": [
        {
          "output_type": "stream",
          "name": "stdout",
          "text": [
            "1320.0円\n"
          ]
        }
      ],
      "source": [
        "#商品購入時の消費税を、関数で計算するプログラムのソースコードを作成して提出してください。以下のヒントを参考にして、プログラムを作成してください。\n",
        "\n",
        "#消費税を加えた計算結果を返す関数を記述する\n",
        "#「結果を返す関数」なので戻り値を使用する\n",
        "#第1引数に商品の金額、第2引数に消費税（10%）を設定する\n",
        "\n",
        "def consumerprice(price,contax):\n",
        "  total=price*(1+contax)\n",
        "  print(f\"{total}円\")\n",
        "consumerprice(1200,0.1)\n"
      ]
    }
  ]
}