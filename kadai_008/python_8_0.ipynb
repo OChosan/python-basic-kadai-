{
  "nbformat": 4,
  "nbformat_minor": 0,
  "metadata": {
    "colab": {
      "provenance": []
    },
    "kernelspec": {
      "name": "python3",
      "display_name": "Python 3"
    },
    "language_info": {
      "name": "python"
    }
  },
  "cells": [
    {
      "cell_type": "code",
      "execution_count": 8,
      "metadata": {
        "colab": {
          "base_uri": "https://localhost:8080/",
          "height": 112
        },
        "id": "B36AZOWkflMT",
        "outputId": "a77de133-34fd-4080-ece9-eaf6ebdd7cf5"
      },
      "outputs": [
        {
          "output_type": "error",
          "ename": "IndentationError",
          "evalue": "expected an indented block after 'for' statement on line 9 (<ipython-input-8-be7a176725e9>, line 10)",
          "traceback": [
            "\u001b[0;36m  File \u001b[0;32m\"<ipython-input-8-be7a176725e9>\"\u001b[0;36m, line \u001b[0;32m10\u001b[0m\n\u001b[0;31m    i = 1+ i\u001b[0m\n\u001b[0m    ^\u001b[0m\n\u001b[0;31mIndentationError\u001b[0m\u001b[0;31m:\u001b[0m expected an indented block after 'for' statement on line 9\n"
          ]
        }
      ],
      "source": [
        "#if文を用いて、以下の条件分岐をするコードを記述してください。値はprint関数で出力してください。\n",
        "#・変数varが、3の倍数の場合は「Fizz」を出力\n",
        "#・変数varが、5の倍数の場合は「Buzz」を出力\n",
        "#・変数varが、3の倍数と5の倍数の両方に該当する場合は「FizzBuzz」を出力\n",
        "#・上記のどの場合にも該当しない場合は、変数varの値を出力\n",
        "\n",
        "#ただし、変数varは正の整数とします。\n",
        "\n",
        "for i in range (1,i):\n",
        "i = 1+ i\n",
        "\n",
        "  if i % 3 == 0 and i % 5 == 0:\n",
        "    print(\"FizzBuzz\")\n",
        "  elif i % 3 ==0:\n",
        "    print(\"Fizz\")\n",
        "  elif i % 5 ==0:\n",
        "    print(\"Buzz\")\n",
        "  else:\n",
        "    print(i)\n",
        "\n",
        "\n"
      ]
    }
  ]
}