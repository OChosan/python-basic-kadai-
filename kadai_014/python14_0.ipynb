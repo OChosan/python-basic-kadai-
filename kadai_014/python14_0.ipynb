{
  "nbformat": 4,
  "nbformat_minor": 0,
  "metadata": {
    "colab": {
      "provenance": []
    },
    "kernelspec": {
      "name": "python3",
      "display_name": "Python 3"
    },
    "language_info": {
      "name": "python"
    }
  },
  "cells": [
    {
      "cell_type": "code",
      "execution_count": 11,
      "metadata": {
        "colab": {
          "base_uri": "https://localhost:8080/"
        },
        "id": "YzIN1m0xN1D7",
        "outputId": "9c2f567e-b25f-4e73-c54f-6a69d0035c0a"
      },
      "outputs": [
        {
          "output_type": "stream",
          "name": "stdout",
          "text": [
            "330.0\n"
          ]
        }
      ],
      "source": [
        "def price_cost(price1,price2,tax):\n",
        "\n",
        "\n",
        "  total=price1+price2\n",
        "\n",
        "  print (total * tax)\n",
        "\n",
        "price_cost(100,200,1.1)\n"
      ]
    }
  ]
}