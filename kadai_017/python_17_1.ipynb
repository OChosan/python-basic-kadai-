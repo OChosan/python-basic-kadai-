{
  "nbformat": 4,
  "nbformat_minor": 0,
  "metadata": {
    "colab": {
      "provenance": []
    },
    "kernelspec": {
      "name": "python3",
      "display_name": "Python 3"
    },
    "language_info": {
      "name": "python"
    }
  },
  "cells": [
    {
      "cell_type": "code",
      "source": [
        "class Human:\n",
        "  def __init__(self, name, age):\n",
        "      self.name = name\n",
        "      self.age = age\n",
        "\n",
        "  def check_adult(self):\n",
        "      if self.age <20:\n",
        "          return(\"no adult\")\n",
        "      else:\n",
        "          return(\"adult\")\n",
        "\n",
        "# `humans`リストを作成し、Humanクラスのインスタンスを追加\n",
        "humans = [Human('ichiro', 19), Human('jiro', 20), Human('saburo', 21)]\n",
        "\n",
        "# 各インスタンスのcheck_adultメソッドを呼び出し、結果を出力\n",
        "for human in humans:\n",
        "    is_adult = human.check_adult()\n",
        "    print(f\"{human.name}  ({human.age}):  {is_adult}\")\n",
        "\n"
      ],
      "metadata": {
        "colab": {
          "base_uri": "https://localhost:8080/"
        },
        "id": "HgP63ItWj2W0",
        "outputId": "64645df2-aca4-4bac-f6c2-1e704c298733"
      },
      "execution_count": 9,
      "outputs": [
        {
          "output_type": "stream",
          "name": "stdout",
          "text": [
            "ichiro  (19):  no adult\n",
            "jiro  (20):  adult\n",
            "saburo  (21):  adult\n"
          ]
        }
      ]
    }
  ]
}